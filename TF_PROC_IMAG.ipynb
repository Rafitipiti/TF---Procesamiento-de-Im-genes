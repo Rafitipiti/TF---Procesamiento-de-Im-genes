{
  "nbformat": 4,
  "nbformat_minor": 0,
  "metadata": {
    "colab": {
      "name": "TF PROC IMAG.ipynb",
      "provenance": [],
      "toc_visible": true,
      "include_colab_link": true
    },
    "kernelspec": {
      "name": "python3",
      "display_name": "Python 3"
    }
  },
  "cells": [
    {
      "cell_type": "markdown",
      "metadata": {
        "id": "view-in-github",
        "colab_type": "text"
      },
      "source": [
        "<a href=\"https://colab.research.google.com/github/Rafitipiti/TF---Procesamiento-de-Im-genes/blob/master/TF_PROC_IMAG.ipynb\" target=\"_parent\"><img src=\"https://colab.research.google.com/assets/colab-badge.svg\" alt=\"Open In Colab\"/></a>"
      ]
    },
    {
      "cell_type": "markdown",
      "metadata": {
        "id": "RmPMNkHLwX2q"
      },
      "source": [
        "# Procesamiento Digital de Imágenes - Trabajo Final\n",
        "\n",
        "## Integrantes\n",
        "\n",
        "*   Alumno 1: <font color='green'> u201812443 - Rafael Andrade Rodríguez </font>\n",
        "*   Alumno 2: <font color='green'> u201810807 - Joaquin Flores Palao </font>\n",
        "*   Alumno 3: <font color='green'> u201712106 - Abraham Alvarez Crespo </font> "
      ]
    },
    {
      "cell_type": "markdown",
      "metadata": {
        "id": "PfTCyGygy3Yg"
      },
      "source": [
        "## Objetivos\n",
        "\n",
        "El trabajo (TF), tiene por objetivo evaluar que el alumno cubra las competencias de:\n",
        "- Manejo de la Información: Capacidad de identificar la información necesaria, así como de buscarla, seleccionarla, evaluarla y usarla éticamente,\n",
        "con la finalidad de resolver un problema.\n",
        "- Formula y Resuelve Problemas Complejos: Analizar un problema\n",
        "de computación complejo y aplicar principios de computación y otras disciplinas relevantes para identificar soluciones.\n"
      ]
    },
    {
      "cell_type": "markdown",
      "metadata": {
        "id": "zHPqYVSC0FqB"
      },
      "source": [
        "## Instrucciones\n",
        "\n",
        "El trabajo podrá ser realizado en grupos de 3 alumnos.\n",
        "El trabajo deberá ser realizado en google colab noteboooks utilizando\n",
        "también github. El trabajo consistirá en los siguientes hitos:\n",
        "1. Primer Hito: Adquisición de las imágenes de entrada, recopilación\n",
        "de un dataset de imágenes de partituras simples, mediante diversos dispositivos tales como cámara fotográfica, scanner, archivos pdf,etc. Este hito debe ser realizado en conjunto por toda la sección, totalizando al menos 200 imágenes de partituras. Entre las imágenes mencionadas, no solo deben haber imágenes ideales sino de partituras rotadas tomadas desde un ángulo que deforme visualmente el recuadro de la hoja que contiene a la partitura, con alteraciones de iluminación y pérdidas por compresión de imágenes.\n",
        "2. Segundo Hito: Entrega del documento con la solución planteada desde el ingreso de cualquier imagen de la naturaleza descrita en el hito\n",
        "anterior, hasta la salida de la melodía interpretada en dicha imagen. Deben indicarse, también, las ideas de solución alternativas que\n",
        "puedan haberse considerado. Los alumnos deben asegurarse que su\n",
        "programa no tenga problemas para abrir ninguna imagen contenida\n",
        "en el dataset.\n",
        "3. Tercer Hito: Entrega del documento en formato paper siguiendo las\n",
        "pautas en el modelo otorgado por el docente."
      ]
    },
    {
      "cell_type": "markdown",
      "metadata": {
        "id": "EYsHfVsL1awy"
      },
      "source": [
        "## Introducción\n",
        "\n",
        "En el presente trabajo se sustentará el uso de determinadas técnicas de programación aprendidas a lo largo del curso en torno al procesamiento digital de imágenes para la lectura de partituras y la representación sonora de la misma.\n",
        "\n",
        "Nuestro proyecto tiene un impacto relevante en las personas interesadas en aprender música, puesto que la interpretación de partituras constituye uno de los principales problemas a los que estos estudiantes deben afrontar."
      ]
    },
    {
      "cell_type": "markdown",
      "metadata": {
        "id": "7dwVnLQ389f0"
      },
      "source": [
        "## Metodología"
      ]
    },
    {
      "cell_type": "markdown",
      "metadata": {
        "id": "UufmY07P8_vB"
      },
      "source": [
        "## Desarrollo\n"
      ]
    },
    {
      "cell_type": "code",
      "metadata": {
        "id": "SP0bdhme9Bw4"
      },
      "source": [
        "import cv2\n",
        "from skimage import color\n",
        "import matplotlib.pyplot as plt\n",
        "from scipy.ndimage import convolve\n",
        "from skimage.transform import resize, rescale\n",
        "import numpy as np\n",
        "from skimage.io import imread, imsave\n",
        "from skimage.feature import match_template\n",
        "from google.colab.patches import cv2_imshow"
      ],
      "execution_count": null,
      "outputs": []
    },
    {
      "cell_type": "code",
      "metadata": {
        "id": "sWv2e-TMBePS"
      },
      "source": [
        ""
      ],
      "execution_count": null,
      "outputs": []
    },
    {
      "cell_type": "markdown",
      "metadata": {
        "id": "yaYIlvJm21FH"
      },
      "source": [
        "## Resultados"
      ]
    },
    {
      "cell_type": "markdown",
      "metadata": {
        "id": "pnUZmHxB1jlv"
      },
      "source": [
        "## Conclusiones"
      ]
    },
    {
      "cell_type": "markdown",
      "metadata": {
        "id": "mP-tJysS1h7X"
      },
      "source": [
        "## Bibliografía"
      ]
    }
  ]
}